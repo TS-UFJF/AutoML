{
 "cells": [
  {
   "cell_type": "code",
   "execution_count": 1,
   "metadata": {
    "scrolled": true
   },
   "outputs": [],
   "source": [
    "from automl import AutoML\n",
    "import pandas as pd"
   ]
  },
  {
   "cell_type": "code",
   "execution_count": null,
   "metadata": {
    "scrolled": true
   },
   "outputs": [],
   "source": [
    "# instance automl object and read the data by its path\n",
    "# during the initialization it will perform the training and model evaluation\n",
    "# the important_future_timesteps parameter indicates the time steps that the models will be evaluated.\n",
    "data_path = '../data/example_1.csv'\n",
    "ml = AutoML(data_path, important_future_timesteps=[1,2,5])"
   ]
  },
  {
   "cell_type": "code",
   "execution_count": 3,
   "metadata": {},
   "outputs": [
    {
     "data": {
      "text/plain": [
       "{'TFT0': {'default': {'wape': 0.20521442150808758, 'rmse': 14.546244517080536},\n",
       "  '0.1': {'wql': 0.08149086095862948},\n",
       "  '0.5': {'wql': 0.20064886874337334},\n",
       "  '0.9': {'wql': 0.07278224802043479}},\n",
       " 'TFT1': {'default': {'wape': 0.20516506074212132, 'rmse': 14.541875658684814},\n",
       "  '0.1': {'wql': 0.08151200859826113},\n",
       "  '0.5': {'wql': 0.20053051784002823},\n",
       "  '0.9': {'wql': 0.07178398354917244}},\n",
       " 'TFT2': {'default': {'wape': 0.2020404783162555, 'rmse': 14.251382941809723},\n",
       "  '0.1': {'wql': 0.08169025057832191},\n",
       "  '0.5': {'wql': 0.19821665832143076},\n",
       "  '0.9': {'wql': 0.07348575933842043}},\n",
       " 'TFT3': {'default': {'wape': 0.20621120888383582, 'rmse': 14.634615556152452},\n",
       "  '0.1': {'wql': 0.08082022829539025},\n",
       "  '0.5': {'wql': 0.2031553530644895},\n",
       "  '0.9': {'wql': 0.07081130858157948}},\n",
       " 'TFT4': {'default': {'wape': 0.20628401588177792, 'rmse': 14.641196308412871},\n",
       "  '0.1': {'wql': 0.08226686204034885},\n",
       "  '0.5': {'wql': 0.20333792302435863},\n",
       "  '0.9': {'wql': 0.07579547825999161}},\n",
       " 'LightGBM0': {'default': {'wape': 0.012212592805519687,\n",
       "   'rmse': 2.251511334856638},\n",
       "  '0.1': {'wql': 0.006573957894526779},\n",
       "  '0.5': {'wql': 0.008771739277029497},\n",
       "  '0.9': {'wql': 0.006396908368147749}},\n",
       " 'LightGBM1': {'default': {'wape': 0.010924620553724746,\n",
       "   'rmse': 2.1637547499814818},\n",
       "  '0.1': {'wql': 0.006265285768009031},\n",
       "  '0.5': {'wql': 0.007141569441007492},\n",
       "  '0.9': {'wql': 0.005327593396447106}},\n",
       " 'LightGBM2': {'default': {'wape': 0.010734909932989289,\n",
       "   'rmse': 2.181134171393792},\n",
       "  '0.1': {'wql': 0.006630644680809452},\n",
       "  '0.5': {'wql': 0.006239474949231172},\n",
       "  '0.9': {'wql': 0.005536538775767315}},\n",
       " 'LightGBM3': {'default': {'wape': 0.010994741707665331,\n",
       "   'rmse': 2.201325537031179},\n",
       "  '0.1': {'wql': 0.005766036227639068},\n",
       "  '0.5': {'wql': 0.007344881545479071},\n",
       "  '0.9': {'wql': 0.005232244367645502}},\n",
       " 'LightGBM4': {'default': {'wape': 0.010667720741579026,\n",
       "   'rmse': 2.1521741430976586},\n",
       "  '0.1': {'wql': 0.006532967654695959},\n",
       "  '0.5': {'wql': 0.006727374869978558},\n",
       "  '0.9': {'wql': 0.005334381939637971}}}"
      ]
     },
     "execution_count": 3,
     "metadata": {},
     "output_type": "execute_result"
    }
   ],
   "source": [
    "# See the evaluation results after choose the model\n",
    "ml.evaluation_results"
   ]
  },
  {
   "cell_type": "code",
   "execution_count": 4,
   "metadata": {},
   "outputs": [
    {
     "data": {
      "text/plain": [
       "LGBMRegressor(learning_rate=0.001, max_depth=10, n_estimators=300,\n",
       "              num_iterations=15000, num_leaves=64)"
      ]
     },
     "execution_count": 4,
     "metadata": {},
     "output_type": "execute_result"
    }
   ],
   "source": [
    "ml.model"
   ]
  },
  {
   "cell_type": "code",
   "execution_count": 5,
   "metadata": {},
   "outputs": [
    {
     "data": {
      "text/plain": [
       "5"
      ]
     },
     "execution_count": 5,
     "metadata": {},
     "output_type": "execute_result"
    }
   ],
   "source": [
    "# See the oldest lag chosen by the automl\n",
    "# this information is important because it is the minimun data size to make new predictions\n",
    "ml.oldest_lag"
   ]
  },
  {
   "cell_type": "code",
   "execution_count": 6,
   "metadata": {
    "scrolled": true
   },
   "outputs": [
    {
     "name": "stdout",
     "output_type": "stream",
     "text": [
      "Next prediction: [array([78.95333595]), array([78.95333595]), array([78.95333595]), array([78.95333595]), array([78.95333595])]\n"
     ]
    }
   ],
   "source": [
    "# predict the next time step based on the last trained data\n",
    "next_value = ml.next(5)\n",
    "print('Next prediction:', next_value)"
   ]
  },
  {
   "cell_type": "code",
   "execution_count": 7,
   "metadata": {},
   "outputs": [
    {
     "name": "stdout",
     "output_type": "stream",
     "text": [
      "Next predictions: [array([78.95333595]), array([78.95333595]), array([78.95333595])]\n"
     ]
    }
   ],
   "source": [
    "# predict values from a horizon of at least past lag length\n",
    "df = pd.read_csv(data_path)\n",
    "X = df.iloc[-ml.oldest_lag:]\n",
    "next_values = ml.predict(X, 3)\n",
    "\n",
    "print('Next predictions:', next_values)"
   ]
  }
 ],
 "metadata": {
  "kernelspec": {
   "display_name": "Python 3",
   "language": "python",
   "name": "python3"
  },
  "language_info": {
   "codemirror_mode": {
    "name": "ipython",
    "version": 3
   },
   "file_extension": ".py",
   "mimetype": "text/x-python",
   "name": "python",
   "nbconvert_exporter": "python",
   "pygments_lexer": "ipython3",
   "version": "3.8.5"
  }
 },
 "nbformat": 4,
 "nbformat_minor": 2
}
